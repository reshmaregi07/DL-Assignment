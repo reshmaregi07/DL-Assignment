{
  "nbformat": 4,
  "nbformat_minor": 0,
  "metadata": {
    "colab": {
      "name": "DL LAB ASS-5 RESHMA REGI 20MAI0004.ipynb",
      "provenance": []
    },
    "kernelspec": {
      "name": "python3",
      "display_name": "Python 3"
    },
    "language_info": {
      "name": "python"
    },
    "accelerator": "GPU"
  },
  "cells": [
    {
      "cell_type": "markdown",
      "metadata": {
        "id": "3c1TXUmLcP_N"
      },
      "source": [
        "# RNN"
      ]
    },
    {
      "cell_type": "code",
      "metadata": {
        "id": "6MNAXzKwcVlv"
      },
      "source": [
        "import pandas as pd\n",
        "import numpy as np\n",
        "import matplotlib.pyplot as plt\n",
        "from sklearn.model_selection import train_test_split\n",
        "import pandas_datareader as pdr\n",
        "from sklearn import metrics\n"
      ],
      "execution_count": 14,
      "outputs": []
    },
    {
      "cell_type": "code",
      "metadata": {
        "id": "zBtT9CJYcatW"
      },
      "source": [
        "#Obtaining the Dataset\n",
        "df = pdr.get_data_yahoo(\"AAPL\", \"2010-11-01\", \"2020-11-01\") \n"
      ],
      "execution_count": 15,
      "outputs": []
    },
    {
      "cell_type": "code",
      "metadata": {
        "colab": {
          "base_uri": "https://localhost:8080/",
          "height": 227
        },
        "id": "QDjSFANzcmgn",
        "outputId": "a1a815ce-e36d-4af9-912d-37e471356469"
      },
      "source": [
        "df.head()\n"
      ],
      "execution_count": 16,
      "outputs": [
        {
          "output_type": "execute_result",
          "data": {
            "text/html": [
              "<div>\n",
              "<style scoped>\n",
              "    .dataframe tbody tr th:only-of-type {\n",
              "        vertical-align: middle;\n",
              "    }\n",
              "\n",
              "    .dataframe tbody tr th {\n",
              "        vertical-align: top;\n",
              "    }\n",
              "\n",
              "    .dataframe thead th {\n",
              "        text-align: right;\n",
              "    }\n",
              "</style>\n",
              "<table border=\"1\" class=\"dataframe\">\n",
              "  <thead>\n",
              "    <tr style=\"text-align: right;\">\n",
              "      <th></th>\n",
              "      <th>High</th>\n",
              "      <th>Low</th>\n",
              "      <th>Open</th>\n",
              "      <th>Close</th>\n",
              "      <th>Volume</th>\n",
              "      <th>Adj Close</th>\n",
              "    </tr>\n",
              "    <tr>\n",
              "      <th>Date</th>\n",
              "      <th></th>\n",
              "      <th></th>\n",
              "      <th></th>\n",
              "      <th></th>\n",
              "      <th></th>\n",
              "      <th></th>\n",
              "    </tr>\n",
              "  </thead>\n",
              "  <tbody>\n",
              "    <tr>\n",
              "      <th>2010-11-01</th>\n",
              "      <td>10.914286</td>\n",
              "      <td>10.792857</td>\n",
              "      <td>10.793571</td>\n",
              "      <td>10.863571</td>\n",
              "      <td>423889200.0</td>\n",
              "      <td>9.357483</td>\n",
              "    </tr>\n",
              "    <tr>\n",
              "      <th>2010-11-02</th>\n",
              "      <td>11.078214</td>\n",
              "      <td>10.964286</td>\n",
              "      <td>10.964286</td>\n",
              "      <td>11.048571</td>\n",
              "      <td>433930000.0</td>\n",
              "      <td>9.516835</td>\n",
              "    </tr>\n",
              "    <tr>\n",
              "      <th>2010-11-03</th>\n",
              "      <td>11.174286</td>\n",
              "      <td>11.018929</td>\n",
              "      <td>11.120357</td>\n",
              "      <td>11.171429</td>\n",
              "      <td>508348400.0</td>\n",
              "      <td>9.622657</td>\n",
              "    </tr>\n",
              "    <tr>\n",
              "      <th>2010-11-04</th>\n",
              "      <td>11.435000</td>\n",
              "      <td>11.251071</td>\n",
              "      <td>11.266071</td>\n",
              "      <td>11.366786</td>\n",
              "      <td>642488000.0</td>\n",
              "      <td>9.790934</td>\n",
              "    </tr>\n",
              "    <tr>\n",
              "      <th>2010-11-05</th>\n",
              "      <td>11.413214</td>\n",
              "      <td>11.312500</td>\n",
              "      <td>11.356786</td>\n",
              "      <td>11.326071</td>\n",
              "      <td>361253200.0</td>\n",
              "      <td>9.755861</td>\n",
              "    </tr>\n",
              "  </tbody>\n",
              "</table>\n",
              "</div>"
            ],
            "text/plain": [
              "                 High        Low       Open      Close       Volume  Adj Close\n",
              "Date                                                                          \n",
              "2010-11-01  10.914286  10.792857  10.793571  10.863571  423889200.0   9.357483\n",
              "2010-11-02  11.078214  10.964286  10.964286  11.048571  433930000.0   9.516835\n",
              "2010-11-03  11.174286  11.018929  11.120357  11.171429  508348400.0   9.622657\n",
              "2010-11-04  11.435000  11.251071  11.266071  11.366786  642488000.0   9.790934\n",
              "2010-11-05  11.413214  11.312500  11.356786  11.326071  361253200.0   9.755861"
            ]
          },
          "metadata": {
            "tags": []
          },
          "execution_count": 16
        }
      ]
    },
    {
      "cell_type": "code",
      "metadata": {
        "id": "EhhRFbYpcsVQ"
      },
      "source": [
        "df[\"Diff\"] = df.Close.diff()\n",
        "df[\"SMA_2\"] = df.Close.rolling(2).mean()# Calculating moving averages of closing prices\n",
        "df[\"Force_Index\"] = df[\"Close\"] * df[\"Volume\"]\n",
        "df[\"y\"] = df[\"Diff\"].apply(lambda x: 1 if x > 0 else 0).shift(-1)\n",
        "df = df.drop(\n",
        " [\"Open\", \"High\", \"Low\", \"Close\", \"Volume\", \"Diff\", \"Adj Close\"], # Open,High,Low,Close,Volume,Diff,Adj Close features whose tuples that have missing values are removed fr\n",
        " axis=1,\n",
        ").dropna()\n",
        "# print(df)\n",
        "X = df.drop([\"y\"], axis=1).values # Assigning the independent variable or X variable\n",
        "y = df[\"y\"].values #Assigning predictor variables\n"
      ],
      "execution_count": 17,
      "outputs": []
    },
    {
      "cell_type": "code",
      "metadata": {
        "id": "dAf4EFVIcsfC"
      },
      "source": [
        "#Splitting into train (80% of the dataset)and test data (20% of the dataset)\n",
        "X_train, X_test, y_train, y_test = train_test_split(\n",
        " X,\n",
        " y,\n",
        " test_size=0.2,\n",
        " shuffle=False,\n",
        ")\n"
      ],
      "execution_count": 18,
      "outputs": []
    },
    {
      "cell_type": "code",
      "metadata": {
        "colab": {
          "base_uri": "https://localhost:8080/"
        },
        "id": "E7227pfsc0pf",
        "outputId": "d134ceca-ac0c-43dd-cd7c-1e39a958fc35"
      },
      "source": [
        "df.info()\n"
      ],
      "execution_count": 19,
      "outputs": [
        {
          "output_type": "stream",
          "text": [
            "<class 'pandas.core.frame.DataFrame'>\n",
            "DatetimeIndex: 2516 entries, 2010-11-02 to 2020-10-29\n",
            "Data columns (total 3 columns):\n",
            " #   Column       Non-Null Count  Dtype  \n",
            "---  ------       --------------  -----  \n",
            " 0   SMA_2        2516 non-null   float64\n",
            " 1   Force_Index  2516 non-null   float64\n",
            " 2   y            2516 non-null   float64\n",
            "dtypes: float64(3)\n",
            "memory usage: 78.6 KB\n"
          ],
          "name": "stdout"
        }
      ]
    },
    {
      "cell_type": "code",
      "metadata": {
        "colab": {
          "base_uri": "https://localhost:8080/",
          "height": 287
        },
        "id": "EwoYmpuIc956",
        "outputId": "e4d86d02-ffb3-4159-a2c7-6e7b69d0041d"
      },
      "source": [
        "df.describe()\n"
      ],
      "execution_count": 20,
      "outputs": [
        {
          "output_type": "execute_result",
          "data": {
            "text/html": [
              "<div>\n",
              "<style scoped>\n",
              "    .dataframe tbody tr th:only-of-type {\n",
              "        vertical-align: middle;\n",
              "    }\n",
              "\n",
              "    .dataframe tbody tr th {\n",
              "        vertical-align: top;\n",
              "    }\n",
              "\n",
              "    .dataframe thead th {\n",
              "        text-align: right;\n",
              "    }\n",
              "</style>\n",
              "<table border=\"1\" class=\"dataframe\">\n",
              "  <thead>\n",
              "    <tr style=\"text-align: right;\">\n",
              "      <th></th>\n",
              "      <th>SMA_2</th>\n",
              "      <th>Force_Index</th>\n",
              "      <th>y</th>\n",
              "    </tr>\n",
              "  </thead>\n",
              "  <tbody>\n",
              "    <tr>\n",
              "      <th>count</th>\n",
              "      <td>2516.000000</td>\n",
              "      <td>2.516000e+03</td>\n",
              "      <td>2516.00000</td>\n",
              "    </tr>\n",
              "    <tr>\n",
              "      <th>mean</th>\n",
              "      <td>34.327839</td>\n",
              "      <td>6.927472e+09</td>\n",
              "      <td>0.52663</td>\n",
              "    </tr>\n",
              "    <tr>\n",
              "      <th>std</th>\n",
              "      <td>21.842704</td>\n",
              "      <td>4.443326e+09</td>\n",
              "      <td>0.49939</td>\n",
              "    </tr>\n",
              "    <tr>\n",
              "      <th>min</th>\n",
              "      <td>10.751607</td>\n",
              "      <td>1.282891e+09</td>\n",
              "      <td>0.00000</td>\n",
              "    </tr>\n",
              "    <tr>\n",
              "      <th>25%</th>\n",
              "      <td>19.155267</td>\n",
              "      <td>4.111956e+09</td>\n",
              "      <td>0.00000</td>\n",
              "    </tr>\n",
              "    <tr>\n",
              "      <th>50%</th>\n",
              "      <td>27.793750</td>\n",
              "      <td>5.590313e+09</td>\n",
              "      <td>1.00000</td>\n",
              "    </tr>\n",
              "    <tr>\n",
              "      <th>75%</th>\n",
              "      <td>43.315938</td>\n",
              "      <td>8.246173e+09</td>\n",
              "      <td>1.00000</td>\n",
              "    </tr>\n",
              "    <tr>\n",
              "      <th>max</th>\n",
              "      <td>132.789993</td>\n",
              "      <td>4.353884e+10</td>\n",
              "      <td>1.00000</td>\n",
              "    </tr>\n",
              "  </tbody>\n",
              "</table>\n",
              "</div>"
            ],
            "text/plain": [
              "             SMA_2   Force_Index           y\n",
              "count  2516.000000  2.516000e+03  2516.00000\n",
              "mean     34.327839  6.927472e+09     0.52663\n",
              "std      21.842704  4.443326e+09     0.49939\n",
              "min      10.751607  1.282891e+09     0.00000\n",
              "25%      19.155267  4.111956e+09     0.00000\n",
              "50%      27.793750  5.590313e+09     1.00000\n",
              "75%      43.315938  8.246173e+09     1.00000\n",
              "max     132.789993  4.353884e+10     1.00000"
            ]
          },
          "metadata": {
            "tags": []
          },
          "execution_count": 20
        }
      ]
    },
    {
      "cell_type": "code",
      "metadata": {
        "id": "pE2nSFMic99i"
      },
      "source": [
        "from keras import Sequential\n",
        "from keras.layers import Dense, SimpleRNN"
      ],
      "execution_count": 21,
      "outputs": []
    },
    {
      "cell_type": "code",
      "metadata": {
        "colab": {
          "base_uri": "https://localhost:8080/"
        },
        "id": "H0LF94wvdOSp",
        "outputId": "a411e238-0918-4b74-9f9a-4765d04a8c91"
      },
      "source": [
        "#Creating the model havng a simple RNN layer and densenet layer with sigmoid activation and adam optimizer\n",
        "model = Sequential()\n",
        "model.add(SimpleRNN(2, input_shape=(X_train.shape[1], 1)))\n",
        "model.add(Dense(1, activation=\"sigmoid\"))\n",
        "model.compile(optimizer=\"adam\", loss=\"binary_crossentropy\", metrics=[\"acc\"])\n",
        "\n",
        "model.summary()"
      ],
      "execution_count": 23,
      "outputs": [
        {
          "output_type": "stream",
          "text": [
            "Model: \"sequential_2\"\n",
            "_________________________________________________________________\n",
            "Layer (type)                 Output Shape              Param #   \n",
            "=================================================================\n",
            "simple_rnn_1 (SimpleRNN)     (None, 2)                 8         \n",
            "_________________________________________________________________\n",
            "dense_2 (Dense)              (None, 1)                 3         \n",
            "=================================================================\n",
            "Total params: 11\n",
            "Trainable params: 11\n",
            "Non-trainable params: 0\n",
            "_________________________________________________________________\n"
          ],
          "name": "stdout"
        }
      ]
    },
    {
      "cell_type": "code",
      "metadata": {
        "colab": {
          "base_uri": "https://localhost:8080/"
        },
        "id": "r3cWF5XydOZm",
        "outputId": "2337c88d-2b5e-476e-f72c-abfa6672a0da"
      },
      "source": [
        "#Training the model\n",
        "\n",
        "model.fit(X_train[:, :, np.newaxis], y_train, epochs=100)"
      ],
      "execution_count": 24,
      "outputs": [
        {
          "output_type": "stream",
          "text": [
            "Epoch 1/100\n",
            "63/63 [==============================] - 1s 4ms/step - loss: 0.7052 - acc: 0.4661\n",
            "Epoch 2/100\n",
            "63/63 [==============================] - 0s 3ms/step - loss: 0.6977 - acc: 0.4731\n",
            "Epoch 3/100\n",
            "63/63 [==============================] - 0s 4ms/step - loss: 0.6944 - acc: 0.4733\n",
            "Epoch 4/100\n",
            "63/63 [==============================] - 0s 4ms/step - loss: 0.6929 - acc: 0.5317\n",
            "Epoch 5/100\n",
            "63/63 [==============================] - 0s 4ms/step - loss: 0.6929 - acc: 0.5106\n",
            "Epoch 6/100\n",
            "63/63 [==============================] - 0s 4ms/step - loss: 0.6924 - acc: 0.5202\n",
            "Epoch 7/100\n",
            "63/63 [==============================] - 0s 4ms/step - loss: 0.6939 - acc: 0.4972\n",
            "Epoch 8/100\n",
            "63/63 [==============================] - 0s 3ms/step - loss: 0.6920 - acc: 0.5258\n",
            "Epoch 9/100\n",
            "63/63 [==============================] - 0s 4ms/step - loss: 0.6926 - acc: 0.5179\n",
            "Epoch 10/100\n",
            "63/63 [==============================] - 0s 4ms/step - loss: 0.6918 - acc: 0.5277\n",
            "Epoch 11/100\n",
            "63/63 [==============================] - 0s 4ms/step - loss: 0.6919 - acc: 0.5261\n",
            "Epoch 12/100\n",
            "63/63 [==============================] - 0s 4ms/step - loss: 0.6928 - acc: 0.5147\n",
            "Epoch 13/100\n",
            "63/63 [==============================] - 0s 4ms/step - loss: 0.6938 - acc: 0.5023\n",
            "Epoch 14/100\n",
            "63/63 [==============================] - 0s 4ms/step - loss: 0.6920 - acc: 0.5244\n",
            "Epoch 15/100\n",
            "63/63 [==============================] - 0s 4ms/step - loss: 0.6941 - acc: 0.4994\n",
            "Epoch 16/100\n",
            "63/63 [==============================] - 0s 4ms/step - loss: 0.6933 - acc: 0.5085\n",
            "Epoch 17/100\n",
            "63/63 [==============================] - 0s 3ms/step - loss: 0.6914 - acc: 0.5315\n",
            "Epoch 18/100\n",
            "63/63 [==============================] - 0s 4ms/step - loss: 0.6916 - acc: 0.5289\n",
            "Epoch 19/100\n",
            "63/63 [==============================] - 0s 4ms/step - loss: 0.6924 - acc: 0.5209\n",
            "Epoch 20/100\n",
            "63/63 [==============================] - 0s 4ms/step - loss: 0.6931 - acc: 0.5101\n",
            "Epoch 21/100\n",
            "63/63 [==============================] - 0s 4ms/step - loss: 0.6922 - acc: 0.5220\n",
            "Epoch 22/100\n",
            "63/63 [==============================] - 0s 4ms/step - loss: 0.6930 - acc: 0.5134\n",
            "Epoch 23/100\n",
            "63/63 [==============================] - 0s 3ms/step - loss: 0.6917 - acc: 0.5281\n",
            "Epoch 24/100\n",
            "63/63 [==============================] - 0s 3ms/step - loss: 0.6913 - acc: 0.5324\n",
            "Epoch 25/100\n",
            "63/63 [==============================] - 0s 4ms/step - loss: 0.6933 - acc: 0.5092\n",
            "Epoch 26/100\n",
            "63/63 [==============================] - 0s 4ms/step - loss: 0.6912 - acc: 0.5339\n",
            "Epoch 27/100\n",
            "63/63 [==============================] - 0s 4ms/step - loss: 0.6924 - acc: 0.5195\n",
            "Epoch 28/100\n",
            "63/63 [==============================] - 0s 4ms/step - loss: 0.6933 - acc: 0.5091\n",
            "Epoch 29/100\n",
            "63/63 [==============================] - 0s 4ms/step - loss: 0.6916 - acc: 0.5296\n",
            "Epoch 30/100\n",
            "63/63 [==============================] - 0s 3ms/step - loss: 0.6930 - acc: 0.5123\n",
            "Epoch 31/100\n",
            "63/63 [==============================] - 0s 4ms/step - loss: 0.6913 - acc: 0.5342\n",
            "Epoch 32/100\n",
            "63/63 [==============================] - 0s 4ms/step - loss: 0.6935 - acc: 0.5081\n",
            "Epoch 33/100\n",
            "63/63 [==============================] - 0s 3ms/step - loss: 0.6950 - acc: 0.4900\n",
            "Epoch 34/100\n",
            "63/63 [==============================] - 0s 4ms/step - loss: 0.6921 - acc: 0.5228\n",
            "Epoch 35/100\n",
            "63/63 [==============================] - 0s 4ms/step - loss: 0.6932 - acc: 0.5103\n",
            "Epoch 36/100\n",
            "63/63 [==============================] - 0s 4ms/step - loss: 0.6901 - acc: 0.5471\n",
            "Epoch 37/100\n",
            "63/63 [==============================] - 0s 3ms/step - loss: 0.6925 - acc: 0.5185\n",
            "Epoch 38/100\n",
            "63/63 [==============================] - 0s 4ms/step - loss: 0.6925 - acc: 0.5190\n",
            "Epoch 39/100\n",
            "63/63 [==============================] - 0s 4ms/step - loss: 0.6910 - acc: 0.5374\n",
            "Epoch 40/100\n",
            "63/63 [==============================] - 0s 4ms/step - loss: 0.6926 - acc: 0.5171\n",
            "Epoch 41/100\n",
            "63/63 [==============================] - 0s 4ms/step - loss: 0.6926 - acc: 0.5189\n",
            "Epoch 42/100\n",
            "63/63 [==============================] - 0s 4ms/step - loss: 0.6921 - acc: 0.5235\n",
            "Epoch 43/100\n",
            "63/63 [==============================] - 0s 4ms/step - loss: 0.6918 - acc: 0.5261\n",
            "Epoch 44/100\n",
            "63/63 [==============================] - 0s 4ms/step - loss: 0.6927 - acc: 0.5160\n",
            "Epoch 45/100\n",
            "63/63 [==============================] - 0s 3ms/step - loss: 0.6918 - acc: 0.5277\n",
            "Epoch 46/100\n",
            "63/63 [==============================] - 0s 4ms/step - loss: 0.6909 - acc: 0.5374\n",
            "Epoch 47/100\n",
            "63/63 [==============================] - 0s 3ms/step - loss: 0.6918 - acc: 0.5277\n",
            "Epoch 48/100\n",
            "63/63 [==============================] - 0s 4ms/step - loss: 0.6927 - acc: 0.5165\n",
            "Epoch 49/100\n",
            "63/63 [==============================] - 0s 4ms/step - loss: 0.6925 - acc: 0.5194\n",
            "Epoch 50/100\n",
            "63/63 [==============================] - 0s 3ms/step - loss: 0.6911 - acc: 0.5354\n",
            "Epoch 51/100\n",
            "63/63 [==============================] - 0s 4ms/step - loss: 0.6926 - acc: 0.5176\n",
            "Epoch 52/100\n",
            "63/63 [==============================] - 0s 4ms/step - loss: 0.6917 - acc: 0.5285\n",
            "Epoch 53/100\n",
            "63/63 [==============================] - 0s 4ms/step - loss: 0.6921 - acc: 0.5239\n",
            "Epoch 54/100\n",
            "63/63 [==============================] - 0s 4ms/step - loss: 0.6928 - acc: 0.5155\n",
            "Epoch 55/100\n",
            "63/63 [==============================] - 0s 4ms/step - loss: 0.6922 - acc: 0.5219\n",
            "Epoch 56/100\n",
            "63/63 [==============================] - 0s 4ms/step - loss: 0.6928 - acc: 0.5155\n",
            "Epoch 57/100\n",
            "63/63 [==============================] - 0s 4ms/step - loss: 0.6932 - acc: 0.5092\n",
            "Epoch 58/100\n",
            "63/63 [==============================] - 0s 4ms/step - loss: 0.6924 - acc: 0.5201\n",
            "Epoch 59/100\n",
            "63/63 [==============================] - 0s 4ms/step - loss: 0.6927 - acc: 0.5166\n",
            "Epoch 60/100\n",
            "63/63 [==============================] - 0s 4ms/step - loss: 0.6927 - acc: 0.5171\n",
            "Epoch 61/100\n",
            "63/63 [==============================] - 0s 4ms/step - loss: 0.6925 - acc: 0.5191\n",
            "Epoch 62/100\n",
            "63/63 [==============================] - 0s 4ms/step - loss: 0.6920 - acc: 0.5251\n",
            "Epoch 63/100\n",
            "63/63 [==============================] - 0s 4ms/step - loss: 0.6926 - acc: 0.5199\n",
            "Epoch 64/100\n",
            "63/63 [==============================] - 0s 4ms/step - loss: 0.6924 - acc: 0.5198\n",
            "Epoch 65/100\n",
            "63/63 [==============================] - 0s 4ms/step - loss: 0.6940 - acc: 0.5009\n",
            "Epoch 66/100\n",
            "63/63 [==============================] - 0s 4ms/step - loss: 0.6918 - acc: 0.5283\n",
            "Epoch 67/100\n",
            "63/63 [==============================] - 0s 4ms/step - loss: 0.6926 - acc: 0.5176\n",
            "Epoch 68/100\n",
            "63/63 [==============================] - 0s 4ms/step - loss: 0.6923 - acc: 0.5213\n",
            "Epoch 69/100\n",
            "63/63 [==============================] - 0s 4ms/step - loss: 0.6916 - acc: 0.5287\n",
            "Epoch 70/100\n",
            "63/63 [==============================] - 0s 4ms/step - loss: 0.6930 - acc: 0.5131\n",
            "Epoch 71/100\n",
            "63/63 [==============================] - 0s 4ms/step - loss: 0.6930 - acc: 0.5134\n",
            "Epoch 72/100\n",
            "63/63 [==============================] - 0s 4ms/step - loss: 0.6929 - acc: 0.5148\n",
            "Epoch 73/100\n",
            "63/63 [==============================] - 0s 4ms/step - loss: 0.6921 - acc: 0.5236\n",
            "Epoch 74/100\n",
            "63/63 [==============================] - 0s 4ms/step - loss: 0.6920 - acc: 0.5245\n",
            "Epoch 75/100\n",
            "63/63 [==============================] - 0s 3ms/step - loss: 0.6930 - acc: 0.5125\n",
            "Epoch 76/100\n",
            "63/63 [==============================] - 0s 4ms/step - loss: 0.6902 - acc: 0.5475\n",
            "Epoch 77/100\n",
            "63/63 [==============================] - 0s 4ms/step - loss: 0.6929 - acc: 0.5140\n",
            "Epoch 78/100\n",
            "63/63 [==============================] - 0s 4ms/step - loss: 0.6928 - acc: 0.5149\n",
            "Epoch 79/100\n",
            "63/63 [==============================] - 0s 4ms/step - loss: 0.6916 - acc: 0.5289\n",
            "Epoch 80/100\n",
            "63/63 [==============================] - 0s 4ms/step - loss: 0.6921 - acc: 0.5229\n",
            "Epoch 81/100\n",
            "63/63 [==============================] - 0s 4ms/step - loss: 0.6921 - acc: 0.5241\n",
            "Epoch 82/100\n",
            "63/63 [==============================] - 0s 4ms/step - loss: 0.6929 - acc: 0.5144\n",
            "Epoch 83/100\n",
            "63/63 [==============================] - 0s 4ms/step - loss: 0.6951 - acc: 0.4875\n",
            "Epoch 84/100\n",
            "63/63 [==============================] - 0s 4ms/step - loss: 0.6932 - acc: 0.5110\n",
            "Epoch 85/100\n",
            "63/63 [==============================] - 0s 4ms/step - loss: 0.6944 - acc: 0.4967\n",
            "Epoch 86/100\n",
            "63/63 [==============================] - 0s 4ms/step - loss: 0.6921 - acc: 0.5242\n",
            "Epoch 87/100\n",
            "63/63 [==============================] - 0s 4ms/step - loss: 0.6912 - acc: 0.5331\n",
            "Epoch 88/100\n",
            "63/63 [==============================] - 0s 4ms/step - loss: 0.6925 - acc: 0.5181\n",
            "Epoch 89/100\n",
            "63/63 [==============================] - 0s 4ms/step - loss: 0.6917 - acc: 0.5283\n",
            "Epoch 90/100\n",
            "63/63 [==============================] - 0s 4ms/step - loss: 0.6939 - acc: 0.5026\n",
            "Epoch 91/100\n",
            "63/63 [==============================] - 0s 4ms/step - loss: 0.6939 - acc: 0.5012\n",
            "Epoch 92/100\n",
            "63/63 [==============================] - 0s 4ms/step - loss: 0.6912 - acc: 0.5345\n",
            "Epoch 93/100\n",
            "63/63 [==============================] - 0s 4ms/step - loss: 0.6912 - acc: 0.5329\n",
            "Epoch 94/100\n",
            "63/63 [==============================] - 0s 4ms/step - loss: 0.6938 - acc: 0.5028\n",
            "Epoch 95/100\n",
            "63/63 [==============================] - 0s 4ms/step - loss: 0.6909 - acc: 0.5380\n",
            "Epoch 96/100\n",
            "63/63 [==============================] - 0s 4ms/step - loss: 0.6924 - acc: 0.5196\n",
            "Epoch 97/100\n",
            "63/63 [==============================] - 0s 4ms/step - loss: 0.6924 - acc: 0.5201\n",
            "Epoch 98/100\n",
            "63/63 [==============================] - 0s 4ms/step - loss: 0.6917 - acc: 0.5278\n",
            "Epoch 99/100\n",
            "63/63 [==============================] - 0s 4ms/step - loss: 0.6909 - acc: 0.5385\n",
            "Epoch 100/100\n",
            "63/63 [==============================] - 0s 4ms/step - loss: 0.6925 - acc: 0.5194\n"
          ],
          "name": "stdout"
        },
        {
          "output_type": "execute_result",
          "data": {
            "text/plain": [
              "<tensorflow.python.keras.callbacks.History at 0x7ff796f0d1d0>"
            ]
          },
          "metadata": {
            "tags": []
          },
          "execution_count": 24
        }
      ]
    },
    {
      "cell_type": "code",
      "metadata": {
        "colab": {
          "base_uri": "https://localhost:8080/"
        },
        "id": "4VAeXuVZdOhI",
        "outputId": "e877b0f1-9855-4094-c9ca-2540f1131be6"
      },
      "source": [
        "#Testing the model\n",
        "\n",
        "from sklearn.metrics import accuracy_score\n",
        "y_pred = model.predict(X_test[:, :, np.newaxis])\n",
        "print(\"Accuracy :\",accuracy_score(y_test, y_pred > 0.5))"
      ],
      "execution_count": 26,
      "outputs": [
        {
          "output_type": "stream",
          "text": [
            "Accuracy : 0.5496031746031746\n"
          ],
          "name": "stdout"
        }
      ]
    },
    {
      "cell_type": "code",
      "metadata": {
        "colab": {
          "base_uri": "https://localhost:8080/",
          "height": 197
        },
        "id": "dbUVS_01dOnV",
        "outputId": "59e1a2e5-bcab-47a5-cd49-5f6a84c4f462"
      },
      "source": [
        "#Actual and predicted values of the dependent variable\n",
        "\n",
        "df2 = pd.DataFrame({'Actual': y_test.flatten(), 'Predicted' : y_pred.flatten()})\n",
        "df2.head()"
      ],
      "execution_count": 27,
      "outputs": [
        {
          "output_type": "execute_result",
          "data": {
            "text/html": [
              "<div>\n",
              "<style scoped>\n",
              "    .dataframe tbody tr th:only-of-type {\n",
              "        vertical-align: middle;\n",
              "    }\n",
              "\n",
              "    .dataframe tbody tr th {\n",
              "        vertical-align: top;\n",
              "    }\n",
              "\n",
              "    .dataframe thead th {\n",
              "        text-align: right;\n",
              "    }\n",
              "</style>\n",
              "<table border=\"1\" class=\"dataframe\">\n",
              "  <thead>\n",
              "    <tr style=\"text-align: right;\">\n",
              "      <th></th>\n",
              "      <th>Actual</th>\n",
              "      <th>Predicted</th>\n",
              "    </tr>\n",
              "  </thead>\n",
              "  <tbody>\n",
              "    <tr>\n",
              "      <th>0</th>\n",
              "      <td>1.0</td>\n",
              "      <td>0.520369</td>\n",
              "    </tr>\n",
              "    <tr>\n",
              "      <th>1</th>\n",
              "      <td>1.0</td>\n",
              "      <td>0.520369</td>\n",
              "    </tr>\n",
              "    <tr>\n",
              "      <th>2</th>\n",
              "      <td>0.0</td>\n",
              "      <td>0.520369</td>\n",
              "    </tr>\n",
              "    <tr>\n",
              "      <th>3</th>\n",
              "      <td>0.0</td>\n",
              "      <td>0.520369</td>\n",
              "    </tr>\n",
              "    <tr>\n",
              "      <th>4</th>\n",
              "      <td>1.0</td>\n",
              "      <td>0.520369</td>\n",
              "    </tr>\n",
              "  </tbody>\n",
              "</table>\n",
              "</div>"
            ],
            "text/plain": [
              "   Actual  Predicted\n",
              "0     1.0   0.520369\n",
              "1     1.0   0.520369\n",
              "2     0.0   0.520369\n",
              "3     0.0   0.520369\n",
              "4     1.0   0.520369"
            ]
          },
          "metadata": {
            "tags": []
          },
          "execution_count": 27
        }
      ]
    },
    {
      "cell_type": "code",
      "metadata": {
        "colab": {
          "base_uri": "https://localhost:8080/"
        },
        "id": "oxFz8AvVdOsb",
        "outputId": "b751f420-e606-4e45-aad3-ebcc20677826"
      },
      "source": [
        "import math\n",
        "print('Mean Absolute Error:', metrics.mean_absolute_error(y_test,y_pred)*100)\n",
        "print('Mean Squared Error:', metrics.mean_squared_error(y_test,y_pred))\n",
        "print('Root Mean Squared Error:', math.sqrt(metrics.mean_squared_error(y_test,y_pred)))"
      ],
      "execution_count": 28,
      "outputs": [
        {
          "output_type": "stream",
          "text": [
            "Mean Absolute Error: 49.79792428868158\n",
            "Mean Squared Error: 0.24839414848690058\n",
            "Root Mean Squared Error: 0.4983915614122099\n"
          ],
          "name": "stdout"
        }
      ]
    },
    {
      "cell_type": "markdown",
      "metadata": {
        "id": "Oh638M8Ca9CX"
      },
      "source": [
        "# LSTM"
      ]
    },
    {
      "cell_type": "code",
      "metadata": {
        "id": "Pv3eZS0QUkd7"
      },
      "source": [
        "#Import the libraries\n",
        "import math\n",
        "import numpy as np\n",
        "import pandas as pd\n",
        "from sklearn.preprocessing import MinMaxScaler\n",
        "from keras.models import Sequential\n",
        "from keras.layers import Dense, LSTM\n",
        "import matplotlib.pyplot as plt\n",
        "plt.style.use('fivethirtyeight')"
      ],
      "execution_count": 7,
      "outputs": []
    },
    {
      "cell_type": "code",
      "metadata": {
        "colab": {
          "base_uri": "https://localhost:8080/"
        },
        "id": "XM2b-Fe_VNz0",
        "outputId": "7963b3ee-98c7-4028-e5c3-374ba65d7430"
      },
      "source": [
        "#Create a 2-D feature NumPy array with random integers\n",
        "features = (np.random.randint(10, size=(100, 1)))\n",
        "print(features.shape)"
      ],
      "execution_count": 2,
      "outputs": [
        {
          "output_type": "stream",
          "text": [
            "(100, 1)\n"
          ],
          "name": "stdout"
        }
      ]
    },
    {
      "cell_type": "code",
      "metadata": {
        "colab": {
          "base_uri": "https://localhost:8080/"
        },
        "id": "SI4fOeQwVQrv",
        "outputId": "9bce14ad-6e41-4b07-da45-d7c1c2b11bf3"
      },
      "source": [
        "#Split the dataset into 75/25 for train and test.\n",
        "\n",
        "training_dataset_length = math.ceil(len(features) * .75)\n",
        "print(training_dataset_length)"
      ],
      "execution_count": 3,
      "outputs": [
        {
          "output_type": "stream",
          "text": [
            "75\n"
          ],
          "name": "stdout"
        }
      ]
    },
    {
      "cell_type": "code",
      "metadata": {
        "id": "dG_BdwfPWDWe"
      },
      "source": [
        "#Preprocess the data\n",
        "#Scale the all of the data to be values between 0 and 1 \n",
        "scaler = MinMaxScaler(feature_range=(0, 1)) \n",
        "scaled_data = scaler.fit_transform(features)"
      ],
      "execution_count": 4,
      "outputs": []
    },
    {
      "cell_type": "code",
      "metadata": {
        "id": "lcfcqzoVWPIw"
      },
      "source": [
        "train_data = scaled_data[0:training_dataset_length  , : ]\n",
        "\n",
        "#Splitting the data\n",
        "x_train=[]\n",
        "y_train = []\n",
        "\n",
        "for i in range(10, len(train_data)):\n",
        "    x_train.append(train_data[i-10:i,0])\n",
        "    y_train.append(train_data[i,0])"
      ],
      "execution_count": 5,
      "outputs": []
    },
    {
      "cell_type": "code",
      "metadata": {
        "id": "Y_9rkVsHWUrh"
      },
      "source": [
        "#Convert to numpy arrays\n",
        "x_train, y_train = np.array(x_train), np.array(y_train)\n",
        "\n",
        "#Reshape the data into 3-D array, shape accepted by the LSTM model.\n",
        "x_train = np.reshape(x_train, (x_train.shape[0],x_train.shape[1],1))"
      ],
      "execution_count": 6,
      "outputs": []
    },
    {
      "cell_type": "code",
      "metadata": {
        "id": "w4J6qxcrWf4e"
      },
      "source": [
        "from keras.layers import Dropout\n",
        "\n",
        "# Initialising the RNN\n",
        "model = Sequential()\n",
        "\n",
        "model.add(LSTM(units = 50, return_sequences = True, input_shape = (x_train.shape[1], 1)))\n",
        "model.add(Dropout(0.2))\n",
        "\n",
        "# Adding a second LSTM layer and Dropout layer\n",
        "model.add(LSTM(units = 50, return_sequences = True))\n",
        "model.add(Dropout(0.2))\n",
        "\n",
        "# Adding a third LSTM layer and Dropout layer\n",
        "model.add(LSTM(units = 50, return_sequences = True))\n",
        "model.add(Dropout(0.2))\n",
        "\n",
        "# Adding a fourth LSTM layer and and Dropout layer\n",
        "model.add(LSTM(units = 50))\n",
        "model.add(Dropout(0.2))\n",
        "\n",
        "# Adding the output layer\n",
        "# For Full connection layer we use dense\n",
        "# As the output is 1D so we use unit=1\n",
        "model.add(Dense(units = 1))"
      ],
      "execution_count": 8,
      "outputs": []
    },
    {
      "cell_type": "code",
      "metadata": {
        "colab": {
          "base_uri": "https://localhost:8080/"
        },
        "id": "nDjTSCa1Y6H6",
        "outputId": "7789472b-7195-426e-8fb6-26f292039145"
      },
      "source": [
        "#compile and fit the model on 30 epochs\n",
        "model.compile(optimizer = 'adam', loss = 'mean_squared_error')\n",
        "model.fit(x_train, y_train, epochs = 30, batch_size = 50)"
      ],
      "execution_count": 10,
      "outputs": [
        {
          "output_type": "stream",
          "text": [
            "Epoch 1/30\n",
            "2/2 [==============================] - 5s 12ms/step - loss: 0.1214\n",
            "Epoch 2/30\n",
            "2/2 [==============================] - 0s 10ms/step - loss: 0.1090\n",
            "Epoch 3/30\n",
            "2/2 [==============================] - 0s 9ms/step - loss: 0.1122\n",
            "Epoch 4/30\n",
            "2/2 [==============================] - 0s 10ms/step - loss: 0.1147\n",
            "Epoch 5/30\n",
            "2/2 [==============================] - 0s 10ms/step - loss: 0.1101\n",
            "Epoch 6/30\n",
            "2/2 [==============================] - 0s 10ms/step - loss: 0.1191\n",
            "Epoch 7/30\n",
            "2/2 [==============================] - 0s 9ms/step - loss: 0.1098\n",
            "Epoch 8/30\n",
            "2/2 [==============================] - 0s 11ms/step - loss: 0.1070\n",
            "Epoch 9/30\n",
            "2/2 [==============================] - 0s 10ms/step - loss: 0.1139\n",
            "Epoch 10/30\n",
            "2/2 [==============================] - 0s 10ms/step - loss: 0.1119\n",
            "Epoch 11/30\n",
            "2/2 [==============================] - 0s 9ms/step - loss: 0.1059\n",
            "Epoch 12/30\n",
            "2/2 [==============================] - 0s 10ms/step - loss: 0.1147\n",
            "Epoch 13/30\n",
            "2/2 [==============================] - 0s 10ms/step - loss: 0.1014\n",
            "Epoch 14/30\n",
            "2/2 [==============================] - 0s 10ms/step - loss: 0.1052\n",
            "Epoch 15/30\n",
            "2/2 [==============================] - 0s 14ms/step - loss: 0.1095\n",
            "Epoch 16/30\n",
            "2/2 [==============================] - 0s 11ms/step - loss: 0.1104\n",
            "Epoch 17/30\n",
            "2/2 [==============================] - 0s 10ms/step - loss: 0.1050\n",
            "Epoch 18/30\n",
            "2/2 [==============================] - 0s 10ms/step - loss: 0.1083\n",
            "Epoch 19/30\n",
            "2/2 [==============================] - 0s 10ms/step - loss: 0.1086\n",
            "Epoch 20/30\n",
            "2/2 [==============================] - 0s 10ms/step - loss: 0.1094\n",
            "Epoch 21/30\n",
            "2/2 [==============================] - 0s 12ms/step - loss: 0.1095\n",
            "Epoch 22/30\n",
            "2/2 [==============================] - 0s 11ms/step - loss: 0.1025\n",
            "Epoch 23/30\n",
            "2/2 [==============================] - 0s 11ms/step - loss: 0.1092\n",
            "Epoch 24/30\n",
            "2/2 [==============================] - 0s 10ms/step - loss: 0.1139\n",
            "Epoch 25/30\n",
            "2/2 [==============================] - 0s 10ms/step - loss: 0.1056\n",
            "Epoch 26/30\n",
            "2/2 [==============================] - 0s 10ms/step - loss: 0.1015\n",
            "Epoch 27/30\n",
            "2/2 [==============================] - 0s 12ms/step - loss: 0.1111\n",
            "Epoch 28/30\n",
            "2/2 [==============================] - 0s 11ms/step - loss: 0.1058\n",
            "Epoch 29/30\n",
            "2/2 [==============================] - 0s 12ms/step - loss: 0.1034\n",
            "Epoch 30/30\n",
            "2/2 [==============================] - 0s 14ms/step - loss: 0.1052\n"
          ],
          "name": "stdout"
        },
        {
          "output_type": "execute_result",
          "data": {
            "text/plain": [
              "<tensorflow.python.keras.callbacks.History at 0x7ff79e331290>"
            ]
          },
          "metadata": {
            "tags": []
          },
          "execution_count": 10
        }
      ]
    },
    {
      "cell_type": "code",
      "metadata": {
        "id": "oTC8uqe-Y_O8"
      },
      "source": [
        "#Test data set\n",
        "test_data = scaled_data[training_dataset_length - 10: , : ]\n",
        "\n",
        "#splitting the x_test and y_test data sets\n",
        "x_test = []\n",
        "y_test =  features[training_dataset_length : , : ] \n",
        "\n",
        "for i in range(10,len(test_data)):\n",
        "    x_test.append(test_data[i-10:i,0])\n",
        "    \n",
        "#Convert x_test to a numpy array \n",
        "x_test = np.array(x_test)\n",
        "\n",
        "#Reshape the data into 3-D array\n",
        "x_test = np.reshape(x_test, (x_test.shape[0],x_test.shape[1],1))"
      ],
      "execution_count": 11,
      "outputs": []
    },
    {
      "cell_type": "code",
      "metadata": {
        "colab": {
          "base_uri": "https://localhost:8080/"
        },
        "id": "Bqkl5Ps4ZpkW",
        "outputId": "524a1336-f1d9-434e-f902-843ef76733e8"
      },
      "source": [
        "#check predicted values\n",
        "predictions = model.predict(x_test) \n",
        "#Undo scaling\n",
        "predictions = scaler.inverse_transform(predictions)\n",
        "\n",
        "#Calculate RMSE score\n",
        "rmse=np.sqrt(np.mean(((predictions- y_test)**2)))\n",
        "rmse"
      ],
      "execution_count": 12,
      "outputs": [
        {
          "output_type": "execute_result",
          "data": {
            "text/plain": [
              "3.187683849948664"
            ]
          },
          "metadata": {
            "tags": []
          },
          "execution_count": 12
        }
      ]
    },
    {
      "cell_type": "code",
      "metadata": {
        "id": "c6JojvXlaf5g"
      },
      "source": [
        ""
      ],
      "execution_count": null,
      "outputs": []
    }
  ]
}