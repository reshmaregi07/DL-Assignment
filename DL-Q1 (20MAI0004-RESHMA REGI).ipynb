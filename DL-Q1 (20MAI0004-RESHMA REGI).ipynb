{
 "cells": [
  {
   "cell_type": "code",
   "execution_count": 17,
   "metadata": {},
   "outputs": [],
   "source": [
    "import numpy as np"
   ]
  },
  {
   "cell_type": "code",
   "execution_count": 18,
   "metadata": {},
   "outputs": [
    {
     "name": "stdout",
     "output_type": "stream",
     "text": [
      "Training without Bias\n",
      " ([1, 2], [3, 4], [5, 6])\n"
     ]
    }
   ],
   "source": [
    "values = ([1,2],[3,4],[5,6])\n",
    "print(\"Training without Bias\\n\", values)"
   ]
  },
  {
   "cell_type": "code",
   "execution_count": 19,
   "metadata": {},
   "outputs": [
    {
     "name": "stdout",
     "output_type": "stream",
     "text": [
      "Training with bias\n",
      " [[-1  1  2]\n",
      " [-1  3  4]\n",
      " [-1  5  6]]\n"
     ]
    }
   ],
   "source": [
    "#Adding Bias \n",
    "test2 = [[-1]] * len(values)\n",
    "values = np.concatenate((test2, values), axis = 1)  \n",
    "print(\"Training with bias\\n\",values)"
   ]
  },
  {
   "cell_type": "code",
   "execution_count": 20,
   "metadata": {},
   "outputs": [
    {
     "name": "stdout",
     "output_type": "stream",
     "text": [
      "Initial random weights\n",
      " [[-0.40117045]\n",
      " [-0.44056111]\n",
      " [-0.41731295]]\n"
     ]
    }
   ],
   "source": [
    "m=3  \n",
    "n=1 \n",
    "weights = np.random.rand(m,n)*0.1 - 0.5\n",
    "print(\"Initial random weights\\n\",weights)"
   ]
  },
  {
   "cell_type": "code",
   "execution_count": 21,
   "metadata": {},
   "outputs": [
    {
     "name": "stdout",
     "output_type": "stream",
     "text": [
      "Training data target values are\n",
      " ([0], [1], [1])\n"
     ]
    }
   ],
   "source": [
    "#Target values Matrix\n",
    "final = ([0],[1],[1])\n",
    "print(\"Training data target values are\\n\", final)"
   ]
  },
  {
   "cell_type": "code",
   "execution_count": 22,
   "metadata": {},
   "outputs": [],
   "source": [
    "#updating weights\n",
    "def updateWeights(weights, inputs, activation, targets):\n",
    "    eta = 0.25\n",
    "    weights += eta*np.dot(np.transpose(inputs), targets - activation)\n",
    "    return weights"
   ]
  },
  {
   "cell_type": "code",
   "execution_count": 23,
   "metadata": {},
   "outputs": [],
   "source": [
    "# Learning\n",
    "\n",
    "def  prediction (inputs, weights, targets):\n",
    "    ack = [[0]] * len(inputs)\n",
    "    for i in range(0, len(inputs)):    \n",
    "        for j in range(0,len(weights)):\n",
    "            ack[i] += inputs[i][j] * weights[j]\n",
    "        ack[i] = np.where(ack[i]>0, 1, 0)\n",
    "        if(targets[i] != ack[i]):\n",
    "            weights = updateWeights(weights, inputs, ack[i], targets)\n",
    "        print(ack[i])\n",
    "    return weights"
   ]
  },
  {
   "cell_type": "code",
   "execution_count": 24,
   "metadata": {},
   "outputs": [
    {
     "name": "stdout",
     "output_type": "stream",
     "text": [
      "\n",
      "Iteration  1 \n",
      "\n",
      "[0]\n",
      "[0]\n",
      "[1]\n",
      "\n",
      "Iteration  2 \n",
      "\n",
      "[1]\n",
      "[1]\n",
      "[1]\n",
      "\n",
      "Iteration  3 \n",
      "\n",
      "[1]\n",
      "[1]\n",
      "[1]\n",
      "\n",
      "Iteration  4 \n",
      "\n",
      "[1]\n",
      "[1]\n",
      "[1]\n",
      "\n",
      "Iteration  5 \n",
      "\n",
      "[1]\n",
      "[1]\n",
      "[1]\n",
      "\n",
      "Trained Weights\n",
      " [[0.09882955]\n",
      " [0.55943889]\n",
      " [0.08268705]]\n"
     ]
    }
   ],
   "source": [
    "#Training \n",
    "iterations = 5\n",
    "for temp in range(0, iterations):\n",
    "    print(\"\\nIteration \",temp+1,\"\\n\")\n",
    "    weights = prediction(values, weights, final)\n",
    "    \n",
    "print(\"\\nTrained Weights\\n\", weights)\n"
   ]
  },
  {
   "cell_type": "code",
   "execution_count": 25,
   "metadata": {},
   "outputs": [
    {
     "name": "stdout",
     "output_type": "stream",
     "text": [
      "[1]\n"
     ]
    }
   ],
   "source": [
    "#Testing \n",
    "def perceptronPredict(weights, newInput):\n",
    "    ac = np.dot(newInput, weights)\n",
    "    ac = np.where(ac>0, 1, 0)\n",
    "    print(ac)\n",
    "\n",
    "\n",
    "newInput = ([-1.0, 8, 9])\n",
    "perceptronPredict(weights, newInput)"
   ]
  },
  {
   "cell_type": "code",
   "execution_count": null,
   "metadata": {},
   "outputs": [],
   "source": []
  }
 ],
 "metadata": {
  "kernelspec": {
   "display_name": "Python 3",
   "language": "python",
   "name": "python3"
  },
  "language_info": {
   "codemirror_mode": {
    "name": "ipython",
    "version": 3
   },
   "file_extension": ".py",
   "mimetype": "text/x-python",
   "name": "python",
   "nbconvert_exporter": "python",
   "pygments_lexer": "ipython3",
   "version": "3.8.5"
  }
 },
 "nbformat": 4,
 "nbformat_minor": 4
}
